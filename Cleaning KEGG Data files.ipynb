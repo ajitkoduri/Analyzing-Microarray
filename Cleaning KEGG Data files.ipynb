{
 "cells": [
  {
   "cell_type": "code",
   "execution_count": 1,
   "metadata": {},
   "outputs": [
    {
     "name": "stdout",
     "output_type": "stream",
     "text": [
      "hsa00010.xml\n"
     ]
    }
   ],
   "source": [
    "#library to deal with XML data\n",
    "import xml.etree.cElementTree as et\n",
    "\n",
    "#library to determine if a file exists\n",
    "import os.path\n",
    "\n",
    "#library to export data into csv file\n",
    "import csv\n",
    "\n",
    "#Parsing and Cleaning KEGG data\n",
    "#iterating through each KEGG pathway files\n",
    "for pathway_number in range(10,5300):\n",
    "    zeros = \"\"\n",
    "    if (pathway_number < 1000):\n",
    "        zeros = \"0\"\n",
    "    if (pathway_number < 100):\n",
    "        zeros = \"00\"\n",
    "    datafile_name = \"hsa0\" + zeros + str(pathway_number) + \".xml\"\n",
    "    \n",
    "    #if the datafile exists, then we clean it. Otherwise, we move to the next file\n",
    "    if os.path.isfile(datafile_name):\n",
    "        print(datafile_name)\n",
    "        pathwaydata = et.parse(datafile_name)\n",
    "        title = pathwaydata.getroot().attrib.get(\"title\")\n",
    "        #parsing data for genes in each pathway\n",
    "        genes_from_pathdata = []\n",
    "        for node in pathwaydata.getroot():\n",
    "            if (node.attrib.get(\"type\") == \"gene\"):\n",
    "                genes_from_pathdata.append(node[0].attrib.get(\"name\"))\n",
    "\n",
    "        #cleaning each item a singular element, removing whitespace in each element and ellipsis in dataset\n",
    "        genes_in_path = []\n",
    "        for gene_group in range(len(genes_from_pathdata)):\n",
    "            x = []\n",
    "            x = genes_from_pathdata[gene_group].split(',')\n",
    "            for gene in range(len(x)):\n",
    "                x[gene] = x[gene].strip()\n",
    "                x[gene] = x[gene].rstrip('.')\n",
    "                #removing entries named hexokinase\n",
    "                if x[gene] != \"hexokinase\":\n",
    "                    genes_in_path.append(x[gene])\n",
    "                    \n",
    "        #removing duplicates in the list\n",
    "        genes_in_path = list(set(genes_in_path))\n",
    "        \n",
    "        #exporting cleaned file\n",
    "        exportfile_name = \"Pathway_\" + str(pathway_number) + \".csv\"\n",
    "        with open(exportfile_name,'w',newline = '') as pathfile:\n",
    "            writer = csv.writer(pathfile, delimiter =',', quoting = csv.QUOTE_MINIMAL)\n",
    "            #write the title first, then add each element\n",
    "            genes_in_path = [title] + genes_in_path\n",
    "            writer.writerow(genes_in_path)"
   ]
  },
  {
   "cell_type": "code",
   "execution_count": null,
   "metadata": {
    "collapsed": true
   },
   "outputs": [],
   "source": []
  }
 ],
 "metadata": {
  "kernelspec": {
   "display_name": "Python 3",
   "language": "python",
   "name": "python3"
  },
  "language_info": {
   "codemirror_mode": {
    "name": "ipython",
    "version": 3
   },
   "file_extension": ".py",
   "mimetype": "text/x-python",
   "name": "python",
   "nbconvert_exporter": "python",
   "pygments_lexer": "ipython3",
   "version": "3.6.1"
  }
 },
 "nbformat": 4,
 "nbformat_minor": 2
}
